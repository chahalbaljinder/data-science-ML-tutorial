{
 "cells": [
  {
   "cell_type": "markdown",
   "id": "7692076d-c3b6-4451-a8b1-06accf11db8e",
   "metadata": {},
   "source": [
    "TOKENIZATION"
   ]
  },
  {
   "cell_type": "code",
   "execution_count": 1,
   "id": "02b6e1e0-da57-43e2-ae08-e6f31de21e07",
   "metadata": {},
   "outputs": [],
   "source": [
    "x=\"Natural language processing (NLP) is an interdisciplinary subfield of computer science and artificial intelligence. It is primarily concerned with providing computers the ability to process data encoded in natural language and is thus closely related to information retrieval, knowledge representation and computational linguistics, a subfield of linguistics. Typically data is collected in text corpora, using either rule-based, statistical or neural-based approaches of machine learning and deep learning.\""
   ]
  },
  {
   "cell_type": "code",
   "execution_count": 2,
   "id": "7a7cd07d-bfeb-4ff9-a714-d59dc1163fcb",
   "metadata": {},
   "outputs": [],
   "source": [
    "from nltk.tokenize import word_tokenize , sent_tokenize"
   ]
  },
  {
   "cell_type": "code",
   "execution_count": 3,
   "id": "e973ebf5-fc10-4c42-8086-b9d528f13ec5",
   "metadata": {
    "scrolled": true
   },
   "outputs": [
    {
     "ename": "NameError",
     "evalue": "name 'w' is not defined",
     "output_type": "error",
     "traceback": [
      "\u001b[1;31m---------------------------------------------------------------------------\u001b[0m",
      "\u001b[1;31mNameError\u001b[0m                                 Traceback (most recent call last)",
      "Cell \u001b[1;32mIn[3], line 2\u001b[0m\n\u001b[0;32m      1\u001b[0m word \u001b[38;5;241m=\u001b[39mword_tokenize(x)\n\u001b[1;32m----> 2\u001b[0m \u001b[43mw\u001b[49m\n",
      "\u001b[1;31mNameError\u001b[0m: name 'w' is not defined"
     ]
    }
   ],
   "source": [
    "word =word_tokenize(x)\n",
    "w"
   ]
  },
  {
   "cell_type": "code",
   "execution_count": null,
   "id": "e1928d9f-e908-4800-9b19-a4c7477f3e8c",
   "metadata": {},
   "outputs": [],
   "source": [
    "sent = sent_tokenize(x)\n",
    "sent"
   ]
  },
  {
   "cell_type": "code",
   "execution_count": null,
   "id": "655980e7-5389-4a0b-a1b4-f6fced2e60d2",
   "metadata": {},
   "outputs": [],
   "source": [
    "from nltk import pos_tag"
   ]
  },
  {
   "cell_type": "markdown",
   "id": "14a693bf-38ee-42e6-ab8c-3c9329c5bf19",
   "metadata": {},
   "source": [
    "PART OF SPEECH (POS)"
   ]
  },
  {
   "cell_type": "code",
   "execution_count": null,
   "id": "f9ae2cc2-b942-40ac-83ff-2ad0bd9727e7",
   "metadata": {
    "scrolled": true
   },
   "outputs": [],
   "source": [
    "p = pos_tag(w)\n",
    "p"
   ]
  },
  {
   "cell_type": "code",
   "execution_count": null,
   "id": "41afeef9-b514-4e7f-a57b-e2da6a9755df",
   "metadata": {},
   "outputs": [],
   "source": []
  },
  {
   "cell_type": "markdown",
   "id": "9702a5fc-d729-418b-b9a8-f7016bb29cd9",
   "metadata": {},
   "source": [
    "STOP WORD REMOVAL"
   ]
  },
  {
   "cell_type": "code",
   "execution_count": null,
   "id": "4a8b4418-f187-4c52-9800-54910814b50f",
   "metadata": {},
   "outputs": [],
   "source": [
    "x = \"Natural language processing (NLP) is an interdisciplinary subfield of computer science and artificial intelligence. It is primarily concerned with providing computers the ability to process data encoded in natural language and is thus closely related to information retrieval, knowledge representation and computational linguistics, a subfield of linguistics. Typically data is collected in text corpora, using either rule-based, statistical or neural-based approaches of machine learning and deep learning.\""
   ]
  },
  {
   "cell_type": "code",
   "execution_count": null,
   "id": "2b641dc8-a07b-4279-bb88-b63ee253493d",
   "metadata": {},
   "outputs": [],
   "source": [
    "from nltk.tokenize import word_tokenize"
   ]
  },
  {
   "cell_type": "code",
   "execution_count": null,
   "id": "997a4790-f016-4a06-bcb8-8db26928ea77",
   "metadata": {
    "scrolled": true
   },
   "outputs": [],
   "source": [
    "word = word_tokenize(x)\n",
    "word"
   ]
  },
  {
   "cell_type": "code",
   "execution_count": null,
   "id": "b60a3310-8494-4b5d-aa3a-d21124be54c7",
   "metadata": {},
   "outputs": [],
   "source": [
    "from nltk.corpus import stopwords"
   ]
  },
  {
   "cell_type": "code",
   "execution_count": null,
   "id": "f3b02292-0fb4-4025-bbff-c0c91682b06c",
   "metadata": {},
   "outputs": [],
   "source": [
    "stop = stopwords.words(\"english\")\n",
    "stop"
   ]
  },
  {
   "cell_type": "code",
   "execution_count": null,
   "id": "db575dbc-bd22-4f12-be94-9b3e58bcdb9d",
   "metadata": {},
   "outputs": [],
   "source": [
    "from string import punctuation"
   ]
  },
  {
   "cell_type": "code",
   "execution_count": null,
   "id": "59c451cd-d807-4555-a7d5-55caa7938cd0",
   "metadata": {},
   "outputs": [],
   "source": [
    "stop_words = list (punctuation) + stop\n",
    "stop_words"
   ]
  },
  {
   "cell_type": "code",
   "execution_count": null,
   "id": "f38ad1c3-503e-4c62-a618-7bc0d64d4e25",
   "metadata": {
    "scrolled": true
   },
   "outputs": [],
   "source": [
    "for i in word:\n",
    "    if i not in stop_words:\n",
    "        print (i)"
   ]
  },
  {
   "cell_type": "code",
   "execution_count": null,
   "id": "dfd9e544-550d-472b-b4d4-91269429f622",
   "metadata": {},
   "outputs": [],
   "source": []
  },
  {
   "cell_type": "markdown",
   "id": "03d48461-e901-468d-94f9-451ea158871e",
   "metadata": {},
   "source": [
    "STEMMING "
   ]
  },
  {
   "cell_type": "code",
   "execution_count": null,
   "id": "32ba5f2e-26c6-4954-9733-38f4f5380119",
   "metadata": {},
   "outputs": [],
   "source": [
    "from nltk.stem"
   ]
  }
 ],
 "metadata": {
  "kernelspec": {
   "display_name": "Python 3 (ipykernel)",
   "language": "python",
   "name": "python3"
  },
  "language_info": {
   "codemirror_mode": {
    "name": "ipython",
    "version": 3
   },
   "file_extension": ".py",
   "mimetype": "text/x-python",
   "name": "python",
   "nbconvert_exporter": "python",
   "pygments_lexer": "ipython3",
   "version": "3.11.2"
  },
  "widgets": {
   "application/vnd.jupyter.widget-state+json": {
    "state": {},
    "version_major": 2,
    "version_minor": 0
   }
  }
 },
 "nbformat": 4,
 "nbformat_minor": 5
}
