{
 "cells": [
  {
   "cell_type": "raw",
   "id": "451a0ac7-45b5-4ad3-8633-59e4dbf352fa",
   "metadata": {},
   "source": [
    "Z test "
   ]
  },
  {
   "cell_type": "code",
   "execution_count": 5,
   "id": "ac59e81d-d2bc-47bf-b10d-efa22235e35a",
   "metadata": {},
   "outputs": [],
   "source": [
    "import scipy.stats as st\n",
    "import numpy as np"
   ]
  },
  {
   "cell_type": "code",
   "execution_count": 3,
   "id": "52afb28a-a48d-48d9-bfb0-8ffae64b800d",
   "metadata": {},
   "outputs": [
    {
     "data": {
      "text/plain": [
       "1.6448536269514722"
      ]
     },
     "execution_count": 3,
     "metadata": {},
     "output_type": "execute_result"
    }
   ],
   "source": [
    "st.norm.ppf(0.95) #calculates the value of z table after passing alpha as argument"
   ]
  },
  {
   "cell_type": "code",
   "execution_count": 12,
   "id": "e23ce0e0-54d7-4496-a5af-9842825c1383",
   "metadata": {},
   "outputs": [],
   "source": [
    "s_x=90       #sample mean\n",
    "p_u=82       #pooulation mean\n",
    "p_std=20     #population standard deviation (sigma)\n",
    "n=81         #no. of samples\n",
    "alpha=0.05    "
   ]
  },
  {
   "cell_type": "code",
   "execution_count": 7,
   "id": "33de57f5-febb-4b4e-be23-22e3a594789c",
   "metadata": {},
   "outputs": [
    {
     "data": {
      "text/plain": [
       "3.5999999999999996"
      ]
     },
     "execution_count": 7,
     "metadata": {},
     "output_type": "execute_result"
    }
   ],
   "source": [
    "# formula if population mean [mew (u)] is given \n",
    "z_cal=(s_x-p_u)/(p_std/np.sqrt(n))\n",
    "z_cal\n",
    "\n",
    "# formula if population mean [mew (u)] is not given \n",
    "z_cal= (s_x1-s_x2)/(p_std/np.sqrt(n))\n",
    "\n",
    "#where, mean of new data =s_x1 &  syntax is s_x1=np.mean(new data)\n",
    "#       mean of old data =s_x2              s_x2=np.mean(old data)\n",
    "\n"
   ]
  },
  {
   "cell_type": "code",
   "execution_count": 14,
   "id": "5feaba0e-d3b8-4801-a70e-a7f307e0c33f",
   "metadata": {},
   "outputs": [
    {
     "data": {
      "text/plain": [
       "1.6448536269514722"
      ]
     },
     "execution_count": 14,
     "metadata": {},
     "output_type": "execute_result"
    }
   ],
   "source": [
    "z_tab=st.norm.ppf(1-alpha)\n",
    "z_tab"
   ]
  },
  {
   "cell_type": "code",
   "execution_count": 15,
   "id": "ad522456-134a-416c-a119-056cda2dd9f5",
   "metadata": {},
   "outputs": [
    {
     "name": "stdout",
     "output_type": "stream",
     "text": [
      "Ha/H1 is right i.e. Alternative\n"
     ]
    }
   ],
   "source": [
    "if z_tab<z_cal:\n",
    "    print(\"Ha/H1 is right i.e. Alternative\")\n",
    "else:\n",
    "    print(\"Ho is right i.e. Null\")"
   ]
  },
  {
   "cell_type": "code",
   "execution_count": null,
   "id": "bdb12434-8cb4-4414-a7f7-4a347b8ec9e1",
   "metadata": {},
   "outputs": [],
   "source": []
  },
  {
   "cell_type": "raw",
   "id": "f593894c-2973-4566-b54b-8d7b89adfab9",
   "metadata": {},
   "source": [
    "T test (one tailed)"
   ]
  },
  {
   "cell_type": "code",
   "execution_count": 25,
   "id": "2bd7c077-6a90-440e-a0ed-304f41f45489",
   "metadata": {},
   "outputs": [
    {
     "data": {
      "text/plain": [
       "-1.7108820799094282"
      ]
     },
     "execution_count": 25,
     "metadata": {},
     "output_type": "execute_result"
    }
   ],
   "source": [
    "t_tab=st.t.ppf(0.05,24)    #st.t.ppf(significance level, degree of freedon(sample size 'n'-1))\n",
    "t_tab"
   ]
  },
  {
   "cell_type": "code",
   "execution_count": 20,
   "id": "7798acc3-0403-4351-b9ed-9b8bb1340bda",
   "metadata": {},
   "outputs": [],
   "source": [
    "s_x=148                    #sample mean\n",
    "pop_u=150                  #pop mean\n",
    "std=5                    #standard deviation\n",
    "n=25                      #sample size"
   ]
  },
  {
   "cell_type": "code",
   "execution_count": 24,
   "id": "eac0b040-9738-4e1f-a327-6bc9e016fd0d",
   "metadata": {},
   "outputs": [
    {
     "data": {
      "text/plain": [
       "66.0"
      ]
     },
     "execution_count": 24,
     "metadata": {},
     "output_type": "execute_result"
    }
   ],
   "source": [
    "t_cal=(s_x-p_u)/(std/np.sqrt(25))\n",
    "t_cal                                #after this compare with t_tab using if else and conclude the hypothesis"
   ]
  },
  {
   "cell_type": "code",
   "execution_count": null,
   "id": "39cc8d99-1d56-4a10-934e-9ee3efd86dcc",
   "metadata": {},
   "outputs": [],
   "source": []
  },
  {
   "cell_type": "raw",
   "id": "438cfde6-fc52-425d-815d-527c3f3d41a8",
   "metadata": {},
   "source": [
    "for two tailed"
   ]
  },
  {
   "cell_type": "raw",
   "id": "e8c4344b-6bae-4504-870c-43df5d7bf625",
   "metadata": {},
   "source": [
    "#s_xA=popuation mean of A\n",
    "#s_xB=sample mean of B\n",
    "#stdA=standard deviation of A                                                     (s_xA-s_xB)\n",
    "#stdB= standard deviation of B                                              -----------------------\n",
    "#nA=sample size of A                                             np.sqrt((np.square(stdA)/nA)-(np.square(stdB)/nB)\n",
    "#nB=sample size of B\n",
    "\n",
    "# formula is \n",
    "\n",
    "#t_cal=(s_xA-s_xB)/np.sqrt((np.square(stdA)/nA)-(np.square(stdB)/nB))"
   ]
  },
  {
   "cell_type": "code",
   "execution_count": null,
   "id": "817c7957-73c5-4485-9e96-43f1bc0fcd8d",
   "metadata": {},
   "outputs": [],
   "source": []
  },
  {
   "cell_type": "raw",
   "id": "54159975-83b8-4c7f-9920-dcda84d1083c",
   "metadata": {},
   "source": [
    "CHI SQUARE TEST"
   ]
  },
  {
   "cell_type": "code",
   "execution_count": 31,
   "id": "75f43b4a-ccd5-4bb6-8362-1771eae7eec8",
   "metadata": {},
   "outputs": [
    {
     "data": {
      "text/plain": [
       "array([ 2, -3,  0,  6,  2, -7])"
      ]
     },
     "execution_count": 31,
     "metadata": {},
     "output_type": "execute_result"
    }
   ],
   "source": [
    "ob =np.array([22,17,20,26,22,13])                                        \n",
    "ex =np.array([20,20,20,20,20,20])\n",
    "ob-ex"
   ]
  },
  {
   "cell_type": "code",
   "execution_count": 36,
   "id": "bd9a97ca-52c9-43f4-9a80-e22561d0afc0",
   "metadata": {},
   "outputs": [
    {
     "data": {
      "text/plain": [
       "5.1000000000000005"
      ]
     },
     "execution_count": 36,
     "metadata": {},
     "output_type": "execute_result"
    }
   ],
   "source": [
    "#X means chi square\n",
    "X_test = np.sum(np.square(ob-ex)/(ex))\n",
    "X_test"
   ]
  },
  {
   "cell_type": "raw",
   "id": "94eca597-2f00-484f-966f-cfadc56167c0",
   "metadata": {},
   "source": [
    "After this calculate X_tab and conclude for the hypothesis"
   ]
  },
  {
   "cell_type": "code",
   "execution_count": null,
   "id": "e72def53-6cf7-4b5b-8c00-6a5f733c6117",
   "metadata": {},
   "outputs": [],
   "source": []
  }
 ],
 "metadata": {
  "kernelspec": {
   "display_name": "Python 3 (ipykernel)",
   "language": "python",
   "name": "python3"
  },
  "language_info": {
   "codemirror_mode": {
    "name": "ipython",
    "version": 3
   },
   "file_extension": ".py",
   "mimetype": "text/x-python",
   "name": "python",
   "nbconvert_exporter": "python",
   "pygments_lexer": "ipython3",
   "version": "3.11.2"
  }
 },
 "nbformat": 4,
 "nbformat_minor": 5
}
